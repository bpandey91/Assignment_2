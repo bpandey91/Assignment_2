{
 "cells": [
  {
   "cell_type": "code",
   "execution_count": 1,
   "id": "82fe74d5",
   "metadata": {},
   "outputs": [
    {
     "data": {
      "text/plain": [
       "False"
      ]
     },
     "execution_count": 1,
     "metadata": {},
     "output_type": "execute_result"
    }
   ],
   "source": [
    "#1.What are the two values of the Boolean data type? How do you write them?\n",
    "\n",
    "#answer: true and false is boolean data type.\n",
    "#wec can write them as below :-\n",
    "True\n",
    "False"
   ]
  },
  {
   "cell_type": "code",
   "execution_count": null,
   "id": "5097002e",
   "metadata": {},
   "outputs": [],
   "source": [
    "#2. What are the three different types of Boolean operators?\n",
    "#answer:\n",
    "\n",
    "\"\"\"AND OR NOT is three defferent types of boolean operators\"\"\""
   ]
  },
  {
   "cell_type": "code",
   "execution_count": 11,
   "id": "89d52212",
   "metadata": {},
   "outputs": [
    {
     "data": {
      "text/plain": [
       "'True and False = False\\nTrue and True =True\\n\\nTrue or True=True\\nTrue or False=True\\n\\nnot True =False\\nnot False= True'"
      ]
     },
     "execution_count": 11,
     "metadata": {},
     "output_type": "execute_result"
    }
   ],
   "source": [
    "#3. Make a list of each Boolean operator's truth tables (i.e. every possible combination of Boolean values for the operator and what it evaluate ).\n",
    "#Answer:\n",
    "\n",
    "\"\"\"True and False = False\n",
    "True and True =True\n",
    "\n",
    "True or True=True\n",
    "True or False=True\n",
    "\n",
    "not True =False\n",
    "not False= True\"\"\"\n",
    "\n"
   ]
  },
  {
   "cell_type": "code",
   "execution_count": 9,
   "id": "df7dcc39",
   "metadata": {},
   "outputs": [
    {
     "data": {
      "text/plain": [
       "False"
      ]
     },
     "execution_count": 9,
     "metadata": {},
     "output_type": "execute_result"
    }
   ],
   "source": [
    "#4. What are the values of the following expressions?\n",
    "# Answer\n",
    "\n",
    "# (5 > 4) and (3 == 5) ----> False\n",
    "# not (5 > 4) -------> False\n",
    "# (5 > 4) or (3 == 5) ----------> True\n",
    "# not ((5 > 4) or (3 == 5))------>False\n",
    "# (True and True) and (True == False)------False\n",
    "# (not False) or (not True)------>True\n"
   ]
  },
  {
   "cell_type": "code",
   "execution_count": 18,
   "id": "ecd56531",
   "metadata": {},
   "outputs": [
    {
     "data": {
      "text/plain": [
       "True"
      ]
     },
     "execution_count": 18,
     "metadata": {},
     "output_type": "execute_result"
    }
   ],
   "source": [
    "#5. What are the six comparison operators?\n",
    "#answer:\n",
    "\n",
    "\"\"\" 1. <\n",
    "    2. >\n",
    "    3. ==\n",
    "    4. <=\n",
    "    5. >=\n",
    "    6. !=  \"\"\""
   ]
  },
  {
   "cell_type": "code",
   "execution_count": 14,
   "id": "6cac27bf",
   "metadata": {},
   "outputs": [
    {
     "data": {
      "text/plain": [
       "False"
      ]
     },
     "execution_count": 14,
     "metadata": {},
     "output_type": "execute_result"
    }
   ],
   "source": [
    "#6. How do you tell the difference between the equal to and assignment operators?Describe a condition and when you would use one.\n",
    "\n",
    "#Answer\n",
    "\n",
    "#Equal operator (==): this means we are checking is both value are equal or not\n",
    "#Assignemt operator (=) : this means we are assigning one value to other."
   ]
  },
  {
   "cell_type": "code",
   "execution_count": 21,
   "id": "0c7ea934",
   "metadata": {},
   "outputs": [
    {
     "name": "stdout",
     "output_type": "stream",
     "text": [
      "ham\n",
      "spam\n",
      "spam\n"
     ]
    },
    {
     "data": {
      "text/plain": [
       "' ham\\n    spam\\n    spam'"
      ]
     },
     "execution_count": 21,
     "metadata": {},
     "output_type": "execute_result"
    }
   ],
   "source": [
    "#7. Identify the three blocks in this code:\n",
    "#answer\n",
    "spam = 0\n",
    "if spam == 10:#false\n",
    "    print('eggs')\n",
    "if spam > 5:#false\n",
    "    print('bacon')\n",
    "else:#(this is goind to be print because above condition is false)\n",
    "    print('ham')\n",
    "    print('spam')\n",
    "    print('spam')\n",
    "# result of above code is \n",
    "\"\"\" ham\n",
    "    spam\n",
    "    spam\"\"\""
   ]
  },
  {
   "cell_type": "code",
   "execution_count": 30,
   "id": "1cd12841",
   "metadata": {},
   "outputs": [
    {
     "name": "stdout",
     "output_type": "stream",
     "text": [
      "please enter any number beetween 1 to  10 :10\n",
      "Greetings!\n"
     ]
    }
   ],
   "source": [
    "#8. Write code that prints Hello if 1 is stored in spam, prints Howdy if 2 is stored in spam, and prints Greetings! if anything else is stored in spam.\n",
    "#answer\n",
    "\n",
    "spam=int(input(\"please enter any number beetween 1 to  10 :\"))\n",
    "if spam==1:\n",
    "    print(\"Hello\")\n",
    "elif spam==2:\n",
    "    print(\"Howdy\")\n",
    "else:\n",
    "    print(\"Greetings!\")"
   ]
  },
  {
   "cell_type": "code",
   "execution_count": null,
   "id": "66d9e628",
   "metadata": {},
   "outputs": [],
   "source": [
    "# 9.If your programme is stuck in an endless loop, what keys you’ll press?\n",
    "#answer \n",
    "\n",
    "\"i'll restart kernel or i'll use break statment in the loop\"\n"
   ]
  },
  {
   "cell_type": "code",
   "execution_count": 41,
   "id": "95e1f021",
   "metadata": {},
   "outputs": [],
   "source": [
    "#10. How can you tell the difference between break and continue?\n",
    "# answer\n",
    "\n",
    "# break: it will work like if we use break in loop then it will exit the loop.\n",
    "# continue: it will work like if we use continue it will again continue the loop till they getiing true statment."
   ]
  },
  {
   "cell_type": "code",
   "execution_count": 55,
   "id": "1f034b15",
   "metadata": {},
   "outputs": [],
   "source": [
    "#11. In a for loop, what is the difference between range(10), range(0, 10), and range(0, 10, 1)?\n",
    "#Answer\n",
    "\n",
    "# range(10): it means value 0 to 10.\n",
    "# range(0,10): this means value 0 to 10.\n",
    "# range(0,10,1) ; this means value 0 to 10 with jump of 1.\n",
    "# all thre value is same which is (0,1,2,3,4,5,6,7,8,9)"
   ]
  },
  {
   "cell_type": "code",
   "execution_count": 60,
   "id": "c423db31",
   "metadata": {},
   "outputs": [],
   "source": [
    "#12. Write a short program that prints the numbers 1 to 10 using a for loop. Then write an equivalent program that prints the numbers 1 to 10 using a while loop.\n",
    "#Answer:\n",
    "#1.  prints the numbers 1 to 10 using a for loop\n",
    "\n",
    "for i in range(1,11):\n",
    "    print(i)\n",
    "    \n",
    "    \n",
    "    \n",
    "2.prints the numbers 1 to 10 using a while loop.\n",
    "\n",
    "i=1\n",
    "while i<=10:\n",
    "    print(i)\n",
    "    i=i+1\n",
    "\n"
   ]
  },
  {
   "cell_type": "code",
   "execution_count": null,
   "id": "fda7146e",
   "metadata": {},
   "outputs": [],
   "source": [
    "#13. If you had a function named bacon() inside a module named spam, how would you call it after importing spam?\n",
    "#Answer:\n",
    "\n",
    "spam.bacon()\n",
    "\n"
   ]
  },
  {
   "cell_type": "code",
   "execution_count": null,
   "id": "f008c62e",
   "metadata": {},
   "outputs": [],
   "source": []
  },
  {
   "cell_type": "code",
   "execution_count": null,
   "id": "4292febb",
   "metadata": {},
   "outputs": [],
   "source": []
  },
  {
   "cell_type": "code",
   "execution_count": null,
   "id": "a4fe6586",
   "metadata": {},
   "outputs": [],
   "source": []
  },
  {
   "cell_type": "code",
   "execution_count": null,
   "id": "9c543933",
   "metadata": {},
   "outputs": [],
   "source": []
  }
 ],
 "metadata": {
  "kernelspec": {
   "display_name": "Python 3 (ipykernel)",
   "language": "python",
   "name": "python3"
  },
  "language_info": {
   "codemirror_mode": {
    "name": "ipython",
    "version": 3
   },
   "file_extension": ".py",
   "mimetype": "text/x-python",
   "name": "python",
   "nbconvert_exporter": "python",
   "pygments_lexer": "ipython3",
   "version": "3.9.7"
  }
 },
 "nbformat": 4,
 "nbformat_minor": 5
}
